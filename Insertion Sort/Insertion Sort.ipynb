{
 "cells": [
  {
   "cell_type": "markdown",
   "metadata": {},
   "source": [
    "# Code"
   ]
  },
  {
   "cell_type": "code",
   "execution_count": 1,
   "metadata": {},
   "outputs": [],
   "source": [
    "def sortInsertion(data):\n",
    "    for i in range(1,len(data)):\n",
    "        key = data[i]\n",
    "        pre = i-1\n",
    "        \n",
    "        while data[pre] > key and pre >= 0:\n",
    "            data[pre+1] = data[pre]\n",
    "            pre-=1\n",
    "            \n",
    "        data[pre+1]=key\n",
    "        \n",
    "    return data"
   ]
  },
  {
   "cell_type": "markdown",
   "metadata": {},
   "source": [
    "1. 定義函式 sortInsertion ，以 List 物件為參數來進行「插入排序法」。\n",
    "2. 以 for 迴圈讀取物件，從第2項讀取，再以變數key作為每次迴圈中欲插入在前面已排序過的元素的鍵值；變數pre則作為儲存前一項的索引。\n",
    "3. while迴圈處理陣列中前、後項比大小的問題，當前項值大於後項值時，改變索引並將項目向前推移。"
   ]
  },
  {
   "cell_type": "markdown",
   "metadata": {},
   "source": [
    "# Testing"
   ]
  },
  {
   "cell_type": "code",
   "execution_count": 2,
   "metadata": {},
   "outputs": [],
   "source": [
    "data1=[4,3,2,1]\n",
    "data2=[1,2,3,4]\n",
    "data3=[1,2,4,3]\n",
    "data4=[4,2,3,1]"
   ]
  },
  {
   "cell_type": "code",
   "execution_count": 3,
   "metadata": {},
   "outputs": [
    {
     "name": "stdout",
     "output_type": "stream",
     "text": [
      "原始資料:  [4, 3, 2, 1]\n",
      "排序後資料:  [1, 2, 3, 4] \n",
      "\n",
      "原始資料:  [1, 2, 3, 4]\n",
      "排序後資料:  [1, 2, 3, 4] \n",
      "\n",
      "原始資料:  [1, 2, 4, 3]\n",
      "排序後資料:  [1, 2, 3, 4] \n",
      "\n",
      "原始資料:  [4, 2, 3, 1]\n",
      "排序後資料:  [1, 2, 3, 4]\n"
     ]
    }
   ],
   "source": [
    "print('原始資料: ',data1)\n",
    "print('排序後資料: ',sortInsertion(data1),'\\n')\n",
    "print('原始資料: ',data2)\n",
    "print('排序後資料: ',sortInsertion(data2),'\\n')\n",
    "print('原始資料: ',data3)\n",
    "print('排序後資料: ',sortInsertion(data3),'\\n')\n",
    "print('原始資料: ',data4)\n",
    "print('排序後資料: ',sortInsertion(data4))"
   ]
  },
  {
   "cell_type": "code",
   "execution_count": null,
   "metadata": {},
   "outputs": [],
   "source": []
  }
 ],
 "metadata": {
  "kernelspec": {
   "display_name": "Python 3",
   "language": "python",
   "name": "python3"
  },
  "language_info": {
   "codemirror_mode": {
    "name": "ipython",
    "version": 3
   },
   "file_extension": ".py",
   "mimetype": "text/x-python",
   "name": "python",
   "nbconvert_exporter": "python",
   "pygments_lexer": "ipython3",
   "version": "3.7.3"
  }
 },
 "nbformat": 4,
 "nbformat_minor": 2
}
