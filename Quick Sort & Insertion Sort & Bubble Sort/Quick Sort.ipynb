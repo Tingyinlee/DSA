{
 "cells": [
  {
   "cell_type": "markdown",
   "metadata": {},
   "source": [
    "# Code"
   ]
  },
  {
   "cell_type": "code",
   "execution_count": null,
   "metadata": {},
   "outputs": [],
   "source": [
    "def sortQuick(Data, first=0, last=None):\n",
    "    if last==None:\n",
    "        last=len(Data)-1\n",
    "    if first < last:\n",
    "        pivotIndex=Division(Data, first, last)\n",
    "        sortQuick(Data, first, pivotIndex-1)\n",
    "        sortQuick(Data, pivotIndex+1, last)\n",
    "    return Data\n",
    "\n",
    "def Division(Data, first, last):\n",
    "    index=first\n",
    "    pivot=Data[first]\n",
    "    for k in range(first+1, last+1):\n",
    "        if Data[k] <= pivot:\n",
    "            index+=1\n",
    "            Data[k], Data[index] = Data[index], Data[k]\n",
    "    left=Data[first]\n",
    "    Data[first]=Data[index]\n",
    "    Data[index]=left\n",
    "    return index"
   ]
  },
  {
   "cell_type": "markdown",
   "metadata": {},
   "source": [
    "* 定義函式sortQuick()來執行排序。\n",
    "* 以遞迴呼叫本身的函式，分別處理左邊和右邊的元素。\n",
    "* 定義函示Division()來執行快速排序法的分割動作。指定數列第一個數值作為pivot，指標index最初也指向pivot。依據指標k指向的值和pivot做比較來決定是否要換位置，當k指向的值小於pivot，指標index向後移動一位，k所指向的值與index所指向的值對調，指標k再繼續向後訪尋；當指標k移動到數列最後一個數值並且所指向過的數值也都與pivot比較過後，pivot將與指標index所指向的數值對調。此時pivot將會成為該數列的中間值，該中間值將數列分成左右兩個子數列，位於中間值左邊的數列均小於中間值；位於中間值右邊的數列均大於中間值。同時函示Division()還會回傳中間值在數列的位置。\n",
    "* 左右兩個子數列再透過遞迴呼叫本身的函式各自進行排序。"
   ]
  },
  {
   "cell_type": "markdown",
   "metadata": {},
   "source": [
    "# Testing"
   ]
  },
  {
   "cell_type": "code",
   "execution_count": 2,
   "metadata": {},
   "outputs": [],
   "source": [
    "data1=[4,3,2,1]\n",
    "data2=[1,2,3,4]\n",
    "data3=[1,2,4,3]\n",
    "data4=[4,2,3,1]"
   ]
  },
  {
   "cell_type": "code",
   "execution_count": 3,
   "metadata": {},
   "outputs": [
    {
     "name": "stdout",
     "output_type": "stream",
     "text": [
      "原始資料:  [4, 3, 2, 1]\n",
      "排序後資料:  [1, 2, 3, 4] \n",
      "\n",
      "原始資料:  [1, 2, 3, 4]\n",
      "排序後資料:  [1, 2, 3, 4] \n",
      "\n",
      "原始資料:  [1, 2, 4, 3]\n",
      "排序後資料:  [1, 2, 3, 4] \n",
      "\n",
      "原始資料:  [4, 2, 3, 1]\n",
      "排序後資料:  [1, 2, 3, 4]\n"
     ]
    }
   ],
   "source": [
    "print('原始資料: ',data1)\n",
    "print('排序後資料: ',sortQuick(data1),'\\n')\n",
    "print('原始資料: ',data2)\n",
    "print('排序後資料: ',sortQuick(data2),'\\n')\n",
    "print('原始資料: ',data3)\n",
    "print('排序後資料: ',sortQuick(data3),'\\n')\n",
    "print('原始資料: ',data4)\n",
    "print('排序後資料: ',sortQuick(data4))"
   ]
  },
  {
   "cell_type": "code",
   "execution_count": null,
   "metadata": {},
   "outputs": [],
   "source": []
  }
 ],
 "metadata": {
  "kernelspec": {
   "display_name": "Python 3",
   "language": "python",
   "name": "python3"
  },
  "language_info": {
   "codemirror_mode": {
    "name": "ipython",
    "version": 3
   },
   "file_extension": ".py",
   "mimetype": "text/x-python",
   "name": "python",
   "nbconvert_exporter": "python",
   "pygments_lexer": "ipython3",
   "version": "3.7.3"
  }
 },
 "nbformat": 4,
 "nbformat_minor": 2
}
