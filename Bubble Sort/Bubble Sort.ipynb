{
 "cells": [
  {
   "cell_type": "markdown",
   "metadata": {},
   "source": [
    "# Code"
   ]
  },
  {
   "cell_type": "code",
   "execution_count": 1,
   "metadata": {},
   "outputs": [],
   "source": [
    "def sortBubble(data):\n",
    "    for n in range(len(data)-1,0,-1):\n",
    "        for i in range(n):\n",
    "            if data[i]>data[i+1]:\n",
    "                data[i+1],data[i]=data[i],data[i+1]\n",
    "    return data"
   ]
  },
  {
   "cell_type": "markdown",
   "metadata": {},
   "source": [
    "1. 定義函式sortBubble\n",
    "2. 外層迴圈紀錄每一回合排序的範圍\n",
    "3. 將元素兩兩比較，並以if配合條件判斷，若前一個項目比後一個項目的值大就互換位置。"
   ]
  },
  {
   "cell_type": "markdown",
   "metadata": {},
   "source": [
    "# Testing"
   ]
  },
  {
   "cell_type": "code",
   "execution_count": 2,
   "metadata": {},
   "outputs": [],
   "source": [
    "data1=[4,3,2,1]\n",
    "data2=[1,2,3,4]\n",
    "data3=[1,2,4,3]\n",
    "data4=[4,2,3,1]"
   ]
  },
  {
   "cell_type": "code",
   "execution_count": 3,
   "metadata": {},
   "outputs": [
    {
     "name": "stdout",
     "output_type": "stream",
     "text": [
      "原始資料:  [4, 3, 2, 1]\n",
      "排序後資料:  [1, 2, 3, 4] \n",
      "\n",
      "原始資料:  [1, 2, 3, 4]\n",
      "排序後資料:  [1, 2, 3, 4] \n",
      "\n",
      "原始資料:  [1, 2, 4, 3]\n",
      "排序後資料:  [1, 2, 3, 4] \n",
      "\n",
      "原始資料:  [4, 2, 3, 1]\n",
      "排序後資料:  [1, 2, 3, 4]\n"
     ]
    }
   ],
   "source": [
    "print('原始資料: ',data1)\n",
    "print('排序後資料: ',sortBubble(data1),'\\n')\n",
    "print('原始資料: ',data2)\n",
    "print('排序後資料: ',sortBubble(data2),'\\n')\n",
    "print('原始資料: ',data3)\n",
    "print('排序後資料: ',sortBubble(data3),'\\n')\n",
    "print('原始資料: ',data4)\n",
    "print('排序後資料: ',sortBubble(data4))"
   ]
  }
 ],
 "metadata": {
  "kernelspec": {
   "display_name": "Python 3",
   "language": "python",
   "name": "python3"
  },
  "language_info": {
   "codemirror_mode": {
    "name": "ipython",
    "version": 3
   },
   "file_extension": ".py",
   "mimetype": "text/x-python",
   "name": "python",
   "nbconvert_exporter": "python",
   "pygments_lexer": "ipython3",
   "version": "3.7.3"
  }
 },
 "nbformat": 4,
 "nbformat_minor": 2
}
